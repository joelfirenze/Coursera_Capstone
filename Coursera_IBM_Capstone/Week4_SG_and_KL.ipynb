{
 "cells": [
  {
   "cell_type": "markdown",
   "metadata": {},
   "source": [
    "# Capstone Project: Singapore and Kuala Lumpur Compared"
   ]
  },
  {
   "cell_type": "markdown",
   "metadata": {},
   "source": [
    "## Purpose\n",
    "This exercise serves as the document for the peer review assignment for the IBM Data Science Professional Certificate - Applied Data Science Capstone. "
   ]
  },
  {
   "cell_type": "markdown",
   "metadata": {},
   "source": [
    "## Introduction\n",
    "\n",
    "This exercise demonstrates the use of the Foursquare API and the k-means machine learning algorithm. \n",
    "\n",
    "The objectives of this exercise was to illustrate the qualitative differences of two neighborhoods in two cities – Singapore and Kuala Lumpur, Malaysia. This exercise could presumably be helpful in two ways: a guide for potential visitors of these two cities on the kinds of places they offer and the food scenes these two places offer; and for potential restauranteurs in thinking about what kinds of dining options to offer in these two places. \n",
    "\n",
    "Singapore and Kuala Lumpur are two cities that are often compared with each other. They are physically just 400km from each other - about four hours ride, and share several qualities: both are diverse multicultural cities where people of different ethnicities, faiths, and cultures live with each other. They have also developed their own food cultures, which often compete with each other. This exercise does not claim to be definititve in either way - merely using Foursquare data to look at how visitors interact with both cities on Foursquare, and how that data might reveal patterns about the food culture as experienced by users who check in on Foursquare. \n",
    "\n"
   ]
  },
  {
   "cell_type": "markdown",
   "metadata": {},
   "source": [
    "## Data\n",
    "\n",
    "The data from this comes from the Foursquare API. Foursquare API calls offers information on the venue and category of the venue – which is sufficient information for the tasks to perform. The file format can be organized for further analysis in the pandas dataframe. \n",
    "\n",
    "The main fields of the Foursquare API that will be used would be:\n",
    "- Venue Name\n",
    "- Latitude\n",
    "- Longitude\n",
    "- Venue cateogry. \n",
    "\n",
    "For the geographical data, I have relied on Google searches to determine the approximate coordinates of the places of interest. "
   ]
  },
  {
   "cell_type": "code",
   "execution_count": null,
   "metadata": {},
   "outputs": [],
   "source": []
  }
 ],
 "metadata": {
  "kernelspec": {
   "display_name": "Python 3",
   "language": "python",
   "name": "python3"
  },
  "language_info": {
   "codemirror_mode": {
    "name": "ipython",
    "version": 3
   },
   "file_extension": ".py",
   "mimetype": "text/x-python",
   "name": "python",
   "nbconvert_exporter": "python",
   "pygments_lexer": "ipython3",
   "version": "3.6.8"
  }
 },
 "nbformat": 4,
 "nbformat_minor": 2
}
